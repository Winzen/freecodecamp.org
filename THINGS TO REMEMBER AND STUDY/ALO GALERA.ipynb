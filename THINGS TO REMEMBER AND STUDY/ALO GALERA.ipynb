{
 "cells": [
  {
   "cell_type": "code",
   "execution_count": 56,
   "id": "cc10e866-2d45-4281-9e62-cfc70f0dac7c",
   "metadata": {},
   "outputs": [],
   "source": [
    "import pandas as pd\n",
    "import sqlite3\n",
    "import matplotlib.pyplot as plt"
   ]
  },
  {
   "cell_type": "code",
   "execution_count": null,
   "id": "8443a822-89e9-4f6d-a932-6880763db48a",
   "metadata": {},
   "outputs": [],
   "source": [
    " (\"Materias\", 'Noticias', 'Curiosidade', 'CoronaVirus')"
   ]
  },
  {
   "cell_type": "code",
   "execution_count": 38,
   "id": "99a4db8d-5158-40d8-972a-67d4cd862dca",
   "metadata": {},
   "outputs": [],
   "source": [
    "base = sqlite3.connect(\"D:\\PROJETOS PY\\FreeCodeCamp Python\\DATABASE\\AventuraPoste.db\")\n",
    "database = base.cursor()\n"
   ]
  },
  {
   "cell_type": "code",
   "execution_count": 264,
   "id": "705c2ba9-0641-4f2f-a023-f05bcf146f6e",
   "metadata": {},
   "outputs": [],
   "source": [
    "df = pd.read_sql(\"SELECT * FROM 'Poste'\", base, parse_dates=['Data'], index_col='Data')"
   ]
  },
  {
   "cell_type": "code",
   "execution_count": 43,
   "id": "352e1dea-3106-4086-91f9-62cb2f90196d",
   "metadata": {},
   "outputs": [
    {
     "data": {
      "text/plain": [
       "(24399, 7)"
      ]
     },
     "execution_count": 43,
     "metadata": {},
     "output_type": "execute_result"
    }
   ],
   "source": [
    "df.shape"
   ]
  },
  {
   "cell_type": "code",
   "execution_count": 49,
   "id": "c934c19d-608c-4ce3-8584-b9117a996720",
   "metadata": {},
   "outputs": [
    {
     "data": {
      "text/plain": [
       "Redação              2700\n",
       "Fabio Previdelli     2247\n",
       "Isabela Barreiros    2238\n",
       "Penélope Coelho      2150\n",
       "Pamela Malva         1784\n",
       "Wallacy Ferrari      1692\n",
       "Ingredi Brunato      1445\n",
       "Alana Sousa          1151\n",
       "André Nogueira       1056\n",
       "Caio Tortamano        854\n",
       "Name: Nome, dtype: int64"
      ]
     },
     "execution_count": 49,
     "metadata": {},
     "output_type": "execute_result"
    }
   ],
   "source": [
    "df[\"Nome\"].value_counts()[:10]"
   ]
  },
  {
   "cell_type": "code",
   "execution_count": 50,
   "id": "e95a8fdc-eb39-4dcf-8100-41a834117ba7",
   "metadata": {},
   "outputs": [
    {
     "data": {
      "text/html": [
       "<div>\n",
       "<style scoped>\n",
       "    .dataframe tbody tr th:only-of-type {\n",
       "        vertical-align: middle;\n",
       "    }\n",
       "\n",
       "    .dataframe tbody tr th {\n",
       "        vertical-align: top;\n",
       "    }\n",
       "\n",
       "    .dataframe thead th {\n",
       "        text-align: right;\n",
       "    }\n",
       "</style>\n",
       "<table border=\"1\" class=\"dataframe\">\n",
       "  <thead>\n",
       "    <tr style=\"text-align: right;\">\n",
       "      <th></th>\n",
       "      <th>Id</th>\n",
       "      <th>Nome</th>\n",
       "      <th>Categoria</th>\n",
       "      <th>Data</th>\n",
       "      <th>Titulo</th>\n",
       "      <th>Hora</th>\n",
       "      <th>Link</th>\n",
       "    </tr>\n",
       "  </thead>\n",
       "  <tbody>\n",
       "    <tr>\n",
       "      <th>0</th>\n",
       "      <td>1</td>\n",
       "      <td>Penélope Coelho</td>\n",
       "      <td>Materias</td>\n",
       "      <td>13/04/2021</td>\n",
       "      <td>A dolorosa relação entre William e Harry: Toma...</td>\n",
       "      <td>14h11</td>\n",
       "      <td>https://aventurasnahistoria.uol.com.br/noticia...</td>\n",
       "    </tr>\n",
       "    <tr>\n",
       "      <th>1</th>\n",
       "      <td>2</td>\n",
       "      <td>Fabio Previdelli</td>\n",
       "      <td>Materias</td>\n",
       "      <td>13/04/2021</td>\n",
       "      <td>Das cartas ao trágico acidente: a relação entr...</td>\n",
       "      <td>13h44</td>\n",
       "      <td>https://aventurasnahistoria.uol.com.br/noticia...</td>\n",
       "    </tr>\n",
       "    <tr>\n",
       "      <th>2</th>\n",
       "      <td>3</td>\n",
       "      <td>Penélope Coelho</td>\n",
       "      <td>Materias</td>\n",
       "      <td>13/04/2021</td>\n",
       "      <td>Como a história de Wallis Simpson se assemelha...</td>\n",
       "      <td>11h24</td>\n",
       "      <td>https://aventurasnahistoria.uol.com.br/noticia...</td>\n",
       "    </tr>\n",
       "    <tr>\n",
       "      <th>3</th>\n",
       "      <td>4</td>\n",
       "      <td>Giovanna Gomes</td>\n",
       "      <td>Materias</td>\n",
       "      <td>13/04/2021</td>\n",
       "      <td>A insólita ligação entre o rei Edward VIII, ti...</td>\n",
       "      <td>10h37</td>\n",
       "      <td>https://aventurasnahistoria.uol.com.br/noticia...</td>\n",
       "    </tr>\n",
       "    <tr>\n",
       "      <th>4</th>\n",
       "      <td>5</td>\n",
       "      <td>Ingredi Brunato</td>\n",
       "      <td>Materias</td>\n",
       "      <td>12/04/2021</td>\n",
       "      <td>Quem herdará o título do príncipe Philip, Duqu...</td>\n",
       "      <td>18h30</td>\n",
       "      <td>https://aventurasnahistoria.uol.com.br/noticia...</td>\n",
       "    </tr>\n",
       "  </tbody>\n",
       "</table>\n",
       "</div>"
      ],
      "text/plain": [
       "   Id              Nome Categoria        Data  \\\n",
       "0   1   Penélope Coelho  Materias  13/04/2021   \n",
       "1   2  Fabio Previdelli  Materias  13/04/2021   \n",
       "2   3   Penélope Coelho  Materias  13/04/2021   \n",
       "3   4    Giovanna Gomes  Materias  13/04/2021   \n",
       "4   5   Ingredi Brunato  Materias  12/04/2021   \n",
       "\n",
       "                                              Titulo   Hora  \\\n",
       "0  A dolorosa relação entre William e Harry: Toma...  14h11   \n",
       "1  Das cartas ao trágico acidente: a relação entr...  13h44   \n",
       "2  Como a história de Wallis Simpson se assemelha...  11h24   \n",
       "3  A insólita ligação entre o rei Edward VIII, ti...  10h37   \n",
       "4  Quem herdará o título do príncipe Philip, Duqu...  18h30   \n",
       "\n",
       "                                                Link  \n",
       "0  https://aventurasnahistoria.uol.com.br/noticia...  \n",
       "1  https://aventurasnahistoria.uol.com.br/noticia...  \n",
       "2  https://aventurasnahistoria.uol.com.br/noticia...  \n",
       "3  https://aventurasnahistoria.uol.com.br/noticia...  \n",
       "4  https://aventurasnahistoria.uol.com.br/noticia...  "
      ]
     },
     "execution_count": 50,
     "metadata": {},
     "output_type": "execute_result"
    }
   ],
   "source": [
    "df.head(5)"
   ]
  },
  {
   "cell_type": "code",
   "execution_count": 54,
   "id": "f48c3059-d66e-48ec-81a0-077e16712d49",
   "metadata": {},
   "outputs": [
    {
     "data": {
      "text/plain": [
       "14/09/2020    58\n",
       "21/09/2020    55\n",
       "31/08/2021    53\n",
       "26/10/2020    52\n",
       "30/11/2021    52\n",
       "              ..\n",
       "31/03/2018     1\n",
       "13/09/2017     1\n",
       "23/07/2018     1\n",
       "17/01/2017     1\n",
       "05/02/2018     1\n",
       "Name: Data, Length: 1409, dtype: int64"
      ]
     },
     "execution_count": 54,
     "metadata": {},
     "output_type": "execute_result"
    }
   ],
   "source": [
    "df['Data'].value_counts()"
   ]
  },
  {
   "cell_type": "code",
   "execution_count": 93,
   "id": "d82d7c4e-363e-4931-83ca-eb6ca9b6400b",
   "metadata": {},
   "outputs": [],
   "source": [
    "contagem = df['Data'].value_counts()[:10]"
   ]
  },
  {
   "cell_type": "code",
   "execution_count": 95,
   "id": "2bf9a638-7a6f-4a19-ab90-ef20993de5a3",
   "metadata": {},
   "outputs": [
    {
     "data": {
      "text/plain": [
       "14/09/2020    58\n",
       "21/09/2020    55\n",
       "31/08/2021    53\n",
       "26/10/2020    52\n",
       "30/11/2021    52\n",
       "02/12/2021    51\n",
       "13/10/2020    51\n",
       "26/10/2021    50\n",
       "29/11/2021    49\n",
       "28/07/2021    49\n",
       "Name: Data, dtype: int64"
      ]
     },
     "execution_count": 95,
     "metadata": {},
     "output_type": "execute_result"
    }
   ],
   "source": [
    "contagem"
   ]
  },
  {
   "cell_type": "code",
   "execution_count": 98,
   "id": "a4b88320-20d5-4c5c-ab51-0bf23f82e402",
   "metadata": {},
   "outputs": [
    {
     "data": {
      "text/plain": [
       "<AxesSubplot:>"
      ]
     },
     "execution_count": 98,
     "metadata": {},
     "output_type": "execute_result"
    },
    {
     "data": {
      "image/png": "[encoded data removed]",
      "text/plain": [
       "<Figure size 1152x720 with 1 Axes>"
      ]
     },
     "metadata": {
      "needs_background": "light"
     },
     "output_type": "display_data"
    }
   ],
   "source": [
    "obj = plt.subplots(figsize=(16,10))\n",
    "fig, ax1 = obj\n",
    "contagem.plot(ax=ax1, kind=\"bar\")\n"
   ]
  },
  {
   "cell_type": "code",
   "execution_count": 175,
   "id": "f9de6eda-caaa-4979-97b8-bda64b884c7e",
   "metadata": {},
   "outputs": [],
   "source": [
    "df[\"year\"] = df.index.year"
   ]
  },
  {
   "cell_type": "code",
   "execution_count": 176,
   "id": "240c705f-895d-409a-b521-61ce356adaa2",
   "metadata": {},
   "outputs": [
    {
     "data": {
      "text/plain": [
       "2021    10615\n",
       "2020    10357\n",
       "2019     2886\n",
       "2018      352\n",
       "2017      154\n",
       "2016       21\n",
       "2008        4\n",
       "2009        3\n",
       "2006        2\n",
       "2007        2\n",
       "2010        1\n",
       "2011        1\n",
       "2012        1\n",
       "Name: year, dtype: int64"
      ]
     },
     "execution_count": 176,
     "metadata": {},
     "output_type": "execute_result"
    }
   ],
   "source": [
    "df['year'].value_counts()"
   ]
  },
  {
   "cell_type": "code",
   "execution_count": 250,
   "id": "34c44b4c-74be-447c-9523-614662f78ddf",
   "metadata": {},
   "outputs": [
    {
     "data": {
      "text/html": [
       "<div>\n",
       "<style scoped>\n",
       "    .dataframe tbody tr th:only-of-type {\n",
       "        vertical-align: middle;\n",
       "    }\n",
       "\n",
       "    .dataframe tbody tr th {\n",
       "        vertical-align: top;\n",
       "    }\n",
       "\n",
       "    .dataframe thead th {\n",
       "        text-align: right;\n",
       "    }\n",
       "</style>\n",
       "<table border=\"1\" class=\"dataframe\">\n",
       "  <thead>\n",
       "    <tr style=\"text-align: right;\">\n",
       "      <th></th>\n",
       "      <th>Id</th>\n",
       "      <th>Nome</th>\n",
       "      <th>Categoria</th>\n",
       "      <th>Titulo</th>\n",
       "      <th>Hora</th>\n",
       "      <th>Link</th>\n",
       "    </tr>\n",
       "    <tr>\n",
       "      <th>Data</th>\n",
       "      <th></th>\n",
       "      <th></th>\n",
       "      <th></th>\n",
       "      <th></th>\n",
       "      <th></th>\n",
       "      <th></th>\n",
       "    </tr>\n",
       "  </thead>\n",
       "  <tbody>\n",
       "    <tr>\n",
       "      <th>2021-04-13</th>\n",
       "      <td>1</td>\n",
       "      <td>Penélope Coelho</td>\n",
       "      <td>Materias</td>\n",
       "      <td>A dolorosa relação entre William e Harry: Toma...</td>\n",
       "      <td>14h11</td>\n",
       "      <td>https://aventurasnahistoria.uol.com.br/noticia...</td>\n",
       "    </tr>\n",
       "    <tr>\n",
       "      <th>2021-04-13</th>\n",
       "      <td>2</td>\n",
       "      <td>Fabio Previdelli</td>\n",
       "      <td>Materias</td>\n",
       "      <td>Das cartas ao trágico acidente: a relação entr...</td>\n",
       "      <td>13h44</td>\n",
       "      <td>https://aventurasnahistoria.uol.com.br/noticia...</td>\n",
       "    </tr>\n",
       "    <tr>\n",
       "      <th>2021-04-13</th>\n",
       "      <td>3</td>\n",
       "      <td>Penélope Coelho</td>\n",
       "      <td>Materias</td>\n",
       "      <td>Como a história de Wallis Simpson se assemelha...</td>\n",
       "      <td>11h24</td>\n",
       "      <td>https://aventurasnahistoria.uol.com.br/noticia...</td>\n",
       "    </tr>\n",
       "    <tr>\n",
       "      <th>2021-04-13</th>\n",
       "      <td>4</td>\n",
       "      <td>Giovanna Gomes</td>\n",
       "      <td>Materias</td>\n",
       "      <td>A insólita ligação entre o rei Edward VIII, ti...</td>\n",
       "      <td>10h37</td>\n",
       "      <td>https://aventurasnahistoria.uol.com.br/noticia...</td>\n",
       "    </tr>\n",
       "    <tr>\n",
       "      <th>2021-12-04</th>\n",
       "      <td>5</td>\n",
       "      <td>Ingredi Brunato</td>\n",
       "      <td>Materias</td>\n",
       "      <td>Quem herdará o título do príncipe Philip, Duqu...</td>\n",
       "      <td>18h30</td>\n",
       "      <td>https://aventurasnahistoria.uol.com.br/noticia...</td>\n",
       "    </tr>\n",
       "    <tr>\n",
       "      <th>...</th>\n",
       "      <td>...</td>\n",
       "      <td>...</td>\n",
       "      <td>...</td>\n",
       "      <td>...</td>\n",
       "      <td>...</td>\n",
       "      <td>...</td>\n",
       "    </tr>\n",
       "    <tr>\n",
       "      <th>2021-09-11</th>\n",
       "      <td>24395</td>\n",
       "      <td>Isabela Barreiros</td>\n",
       "      <td>Noticias</td>\n",
       "      <td>Dean Stockwell, ator do ‘Duna’ original de 198...</td>\n",
       "      <td>11h35</td>\n",
       "      <td>https://aventurasnahistoria.uol.com.br/noticia...</td>\n",
       "    </tr>\n",
       "    <tr>\n",
       "      <th>2021-09-11</th>\n",
       "      <td>24396</td>\n",
       "      <td>Redação</td>\n",
       "      <td>Noticias</td>\n",
       "      <td>Na França, bispos irão doar ‘bens’ da Igreja p...</td>\n",
       "      <td>11h33</td>\n",
       "      <td>https://aventurasnahistoria.uol.com.br/noticia...</td>\n",
       "    </tr>\n",
       "    <tr>\n",
       "      <th>2021-09-11</th>\n",
       "      <td>24397</td>\n",
       "      <td>Penélope Coelho</td>\n",
       "      <td>Noticias</td>\n",
       "      <td>Atriz revela que sua casa era mal-assombrada e...</td>\n",
       "      <td>11h18</td>\n",
       "      <td>https://aventurasnahistoria.uol.com.br/noticia...</td>\n",
       "    </tr>\n",
       "    <tr>\n",
       "      <th>2021-09-11</th>\n",
       "      <td>24398</td>\n",
       "      <td>Paola Orlovas</td>\n",
       "      <td>Noticias</td>\n",
       "      <td>Wang Yaping se torna primeira astronauta chine...</td>\n",
       "      <td>11h16</td>\n",
       "      <td>https://aventurasnahistoria.uol.com.br/noticia...</td>\n",
       "    </tr>\n",
       "    <tr>\n",
       "      <th>2021-09-11</th>\n",
       "      <td>24399</td>\n",
       "      <td>Penélope Coelho</td>\n",
       "      <td>Noticias</td>\n",
       "      <td>Meio-irmão de Meghan Markle pede desculpas por...</td>\n",
       "      <td>11h12</td>\n",
       "      <td>https://aventurasnahistoria.uol.com.br/noticia...</td>\n",
       "    </tr>\n",
       "  </tbody>\n",
       "</table>\n",
       "<p>24399 rows × 6 columns</p>\n",
       "</div>"
      ],
      "text/plain": [
       "               Id               Nome Categoria  \\\n",
       "Data                                             \n",
       "2021-04-13      1    Penélope Coelho  Materias   \n",
       "2021-04-13      2   Fabio Previdelli  Materias   \n",
       "2021-04-13      3    Penélope Coelho  Materias   \n",
       "2021-04-13      4     Giovanna Gomes  Materias   \n",
       "2021-12-04      5    Ingredi Brunato  Materias   \n",
       "...           ...                ...       ...   \n",
       "2021-09-11  24395  Isabela Barreiros  Noticias   \n",
       "2021-09-11  24396            Redação  Noticias   \n",
       "2021-09-11  24397    Penélope Coelho  Noticias   \n",
       "2021-09-11  24398      Paola Orlovas  Noticias   \n",
       "2021-09-11  24399    Penélope Coelho  Noticias   \n",
       "\n",
       "                                                       Titulo   Hora  \\\n",
       "Data                                                                   \n",
       "2021-04-13  A dolorosa relação entre William e Harry: Toma...  14h11   \n",
       "2021-04-13  Das cartas ao trágico acidente: a relação entr...  13h44   \n",
       "2021-04-13  Como a história de Wallis Simpson se assemelha...  11h24   \n",
       "2021-04-13  A insólita ligação entre o rei Edward VIII, ti...  10h37   \n",
       "2021-12-04  Quem herdará o título do príncipe Philip, Duqu...  18h30   \n",
       "...                                                       ...    ...   \n",
       "2021-09-11  Dean Stockwell, ator do ‘Duna’ original de 198...  11h35   \n",
       "2021-09-11  Na França, bispos irão doar ‘bens’ da Igreja p...  11h33   \n",
       "2021-09-11  Atriz revela que sua casa era mal-assombrada e...  11h18   \n",
       "2021-09-11  Wang Yaping se torna primeira astronauta chine...  11h16   \n",
       "2021-09-11  Meio-irmão de Meghan Markle pede desculpas por...  11h12   \n",
       "\n",
       "                                                         Link  \n",
       "Data                                                           \n",
       "2021-04-13  https://aventurasnahistoria.uol.com.br/noticia...  \n",
       "2021-04-13  https://aventurasnahistoria.uol.com.br/noticia...  \n",
       "2021-04-13  https://aventurasnahistoria.uol.com.br/noticia...  \n",
       "2021-04-13  https://aventurasnahistoria.uol.com.br/noticia...  \n",
       "2021-12-04  https://aventurasnahistoria.uol.com.br/noticia...  \n",
       "...                                                       ...  \n",
       "2021-09-11  https://aventurasnahistoria.uol.com.br/noticia...  \n",
       "2021-09-11  https://aventurasnahistoria.uol.com.br/noticia...  \n",
       "2021-09-11  https://aventurasnahistoria.uol.com.br/noticia...  \n",
       "2021-09-11  https://aventurasnahistoria.uol.com.br/noticia...  \n",
       "2021-09-11  https://aventurasnahistoria.uol.com.br/noticia...  \n",
       "\n",
       "[24399 rows x 6 columns]"
      ]
     },
     "execution_count": 250,
     "metadata": {},
     "output_type": "execute_result"
    }
   ],
   "source": [
    "df"
   ]
  },
  {
   "cell_type": "code",
   "execution_count": 265,
   "id": "6bb8982e-0e94-4e9e-89f2-92f159b09fb5",
   "metadata": {},
   "outputs": [],
   "source": [
    "df = df[(df.index.year == 2021) | (df.index.year == 2020)]"
   ]
  },
  {
   "cell_type": "code",
   "execution_count": 266,
   "id": "0072162c-84f0-4c1d-a176-c9510922b834",
   "metadata": {},
   "outputs": [],
   "source": [
    "df['year'] = df.index.year\n",
    "df['month'] = df.index.month"
   ]
  },
  {
   "cell_type": "code",
   "execution_count": 267,
   "id": "60d1f5bf-6b52-40fc-9cfc-e743bc0e4f2d",
   "metadata": {},
   "outputs": [],
   "source": [
    "df = (df.groupby(['year', 'month']))['month'].count().unstack()"
   ]
  },
  {
   "cell_type": "code",
   "execution_count": 268,
   "id": "dec1299d-0cc2-4ae1-b4f5-ca279ddb63cd",
   "metadata": {},
   "outputs": [
    {
     "data": {
      "text/html": [
       "<div>\n",
       "<style scoped>\n",
       "    .dataframe tbody tr th:only-of-type {\n",
       "        vertical-align: middle;\n",
       "    }\n",
       "\n",
       "    .dataframe tbody tr th {\n",
       "        vertical-align: top;\n",
       "    }\n",
       "\n",
       "    .dataframe thead th {\n",
       "        text-align: right;\n",
       "    }\n",
       "</style>\n",
       "<table border=\"1\" class=\"dataframe\">\n",
       "  <thead>\n",
       "    <tr style=\"text-align: right;\">\n",
       "      <th>month</th>\n",
       "      <th>1</th>\n",
       "      <th>2</th>\n",
       "      <th>3</th>\n",
       "      <th>4</th>\n",
       "      <th>5</th>\n",
       "      <th>6</th>\n",
       "      <th>7</th>\n",
       "      <th>8</th>\n",
       "      <th>9</th>\n",
       "      <th>10</th>\n",
       "      <th>11</th>\n",
       "      <th>12</th>\n",
       "    </tr>\n",
       "    <tr>\n",
       "      <th>year</th>\n",
       "      <th></th>\n",
       "      <th></th>\n",
       "      <th></th>\n",
       "      <th></th>\n",
       "      <th></th>\n",
       "      <th></th>\n",
       "      <th></th>\n",
       "      <th></th>\n",
       "      <th></th>\n",
       "      <th></th>\n",
       "      <th></th>\n",
       "      <th></th>\n",
       "    </tr>\n",
       "  </thead>\n",
       "  <tbody>\n",
       "    <tr>\n",
       "      <th>2020</th>\n",
       "      <td>675</td>\n",
       "      <td>643</td>\n",
       "      <td>947</td>\n",
       "      <td>883</td>\n",
       "      <td>920</td>\n",
       "      <td>867</td>\n",
       "      <td>862</td>\n",
       "      <td>911</td>\n",
       "      <td>938</td>\n",
       "      <td>975</td>\n",
       "      <td>927</td>\n",
       "      <td>809</td>\n",
       "    </tr>\n",
       "    <tr>\n",
       "      <th>2021</th>\n",
       "      <td>915</td>\n",
       "      <td>881</td>\n",
       "      <td>891</td>\n",
       "      <td>862</td>\n",
       "      <td>848</td>\n",
       "      <td>864</td>\n",
       "      <td>943</td>\n",
       "      <td>977</td>\n",
       "      <td>887</td>\n",
       "      <td>866</td>\n",
       "      <td>909</td>\n",
       "      <td>772</td>\n",
       "    </tr>\n",
       "  </tbody>\n",
       "</table>\n",
       "</div>"
      ],
      "text/plain": [
       "month   1    2    3    4    5    6    7    8    9    10   11   12\n",
       "year                                                             \n",
       "2020   675  643  947  883  920  867  862  911  938  975  927  809\n",
       "2021   915  881  891  862  848  864  943  977  887  866  909  772"
      ]
     },
     "execution_count": 268,
     "metadata": {},
     "output_type": "execute_result"
    }
   ],
   "source": [
    "df"
   ]
  },
  {
   "cell_type": "code",
   "execution_count": 329,
   "id": "21da5e76-ae0c-41b1-8925-5792c1754029",
   "metadata": {},
   "outputs": [
    {
     "data": {
      "text/plain": [
       "<AxesSubplot:xlabel='month'>"
      ]
     },
     "execution_count": 329,
     "metadata": {},
     "output_type": "execute_result"
    },
    {
     "data": {
      "image/png": "[encoded data removed]",
      "text/plain": [
       "<Figure size 1152x720 with 2 Axes>"
      ]
     },
     "metadata": {
      "needs_background": "light"
     },
     "output_type": "display_data"
    }
   ],
   "source": [
    "grafico = plt.subplots(nrows=1, ncols=2, figsize=(16,10) )\n",
    "fig, ((g1, g2)) = grafico\n",
    "df.iloc[0].plot(ax=g1, kind='line')\n",
    "df.iloc[1].plot(ax=g1, kind='line')"
   ]
  },
  {
   "cell_type": "code",
   "execution_count": 327,
   "id": "239144bb-deec-4b4d-a5c5-dc99477b5716",
   "metadata": {},
   "outputs": [
    {
     "data": {
      "text/plain": [
       "month\n",
       "1     675\n",
       "2     643\n",
       "3     947\n",
       "4     883\n",
       "5     920\n",
       "6     867\n",
       "7     862\n",
       "8     911\n",
       "9     938\n",
       "10    975\n",
       "11    927\n",
       "12    809\n",
       "Name: 2020, dtype: int64"
      ]
     },
     "execution_count": 327,
     "metadata": {},
     "output_type": "execute_result"
    }
   ],
   "source": [
    "df.iloc[0]"
   ]
  }
 ],
 "metadata": {
  "kernelspec": {
   "display_name": "Python 3 (ipykernel)",
   "language": "python",
   "name": "python3"
  },
  "language_info": {
   "codemirror_mode": {
    "name": "ipython",
    "version": 3
   },
   "file_extension": ".py",
   "mimetype": "text/x-python",
   "name": "python",
   "nbconvert_exporter": "python",
   "pygments_lexer": "ipython3",
   "version": "3.9.2"
  }
 },
 "nbformat": 4,
 "nbformat_minor": 5
}
