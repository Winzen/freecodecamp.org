"""
TESTE FALHADO DE USAR UM MODELO PRONTO PARA FAZER O PROJETO.

"""
Cópia de fcc_cat_dog TESTE AQUI.ipynbC_

Note: You are currently reading this using Google Colaboratory which is a cloud-hosted version of Jupyter Notebook. This is a document containng both text cells for documentation and runnable code cells. If you are unfamiliar with Jupyter Notebook, watch this 3-minute introduction before starting this challenge: https://www.youtube.com/watch?v=inN8seMm7UI

For this challenge, you will complete the code below to classify images of dogs and cats. You will use Tensorflow 2.0 and Keras to create a convolutional neural network that correctly classifies images of cats and dogs at least 63% of the time. (Extra credit if you get it to 70% accuracy!)

Some of the code is given to you but some code you must fill in to complete this challenge. Read the instruction in each text cell so you will know what you have to do in each code cell.

The first code cell imports the required libraries. The second code cell downloads the data and sets key variables. The third cell is the first place you will write your own code.

The structure of the dataset files that are downloaded looks like this (You will notice that the test directory has no subdirectories and the images are not labeled):

cats_and_dogs
|__ train:
    |______ cats: [cat.0.jpg, cat.1.jpg ...]
    |______ dogs: [dog.0.jpg, dog.1.jpg ...]
|__ validation:
    |______ cats: [cat.2000.jpg, cat.2001.jpg ...]
    |______ dogs: [dog.2000.jpg, dog.2001.jpg ...]
|__ test: [1.jpg, 2.jpg ...]

You can tweak epochs and batch size if you like, but it is not required.

try:
  # This command only in Colab.
  %tensorflow_version 2.x
except Exception:
  pass
import tensorflow as tf

from tensorflow.keras.models import Sequential
from tensorflow.keras.layers import Dense, Conv2D, Flatten, Dropout, MaxPooling2D
from tensorflow.keras.preprocessing.image import ImageDataGenerator

import os
import numpy as np
import matplotlib.pyplot as plt

# Get project files
!wget https://cdn.freecodecamp.org/project-data/cats-and-dogs/cats_and_dogs.zip

!unzip cats_and_dogs.zip

PATH = 'cats_and_dogs'

train_dir = os.path.join(PATH, 'train')
validation_dir = os.path.join(PATH, 'validation')
test_dir = os.path.join(PATH, 'test')

# Get number of files in each directory. The train and validation directories
# each have the subdirecories "dogs" and "cats".
total_train = sum([len(files) for r, d, files in os.walk(train_dir)])
total_val = sum([len(files) for r, d, files in os.walk(validation_dir)])
total_test = len(os.listdir(test_dir))

# Variables for pre-processing and training.
batch_size = 128
epochs = 15
IMG_HEIGHT = 150
IMG_WIDTH = 150

print(total_train, total_val, total_test)

2001 1001 51


Now it is your turn! Set each of the variables below correctly. (They should no longer equal None.)

Create image generators for each of the three image data sets (train, validation, test). Use ImageDataGenerator to read / decode the images and convert them into floating point tensors. Use the rescale argument (and no other arguments for now) to rescale the tensors from values between 0 and 255 to values between 0 and 1.

For the *_data_gen variables, use the flow_from_directory method. Pass in the batch size, directory, target size ((IMG_HEIGHT, IMG_WIDTH)), class mode, and anything else required. test_data_gen will be the trickiest one. For test_data_gen, make sure to pass in shuffle=False to the flow_from_directory method. This will make sure the final predictions stay is in the order that our test expects. For test_data_gen it will also be helpful to observe the directory structure.

After you run the code, the output should look like this:

Found 2000 images belonging to 2 classes.
Found 1000 images belonging to 2 classes.
Found 50 images belonging to 1 classes.

train_image_generator = ImageDataGenerator(rescale=1./255)
validation_image_generator = ImageDataGenerator(rescale=1./255)
test_image_generator = ImageDataGenerator(rescale=1./255)

train_data_gen = train_image_generator.flow_from_directory(
    train_dir, target_size=(IMG_HEIGHT, IMG_WIDTH), batch_size=batch_size,
    class_mode='binary'
)
val_data_gen = validation_image_generator.flow_from_directory(
    validation_dir, target_size=(IMG_HEIGHT, IMG_WIDTH), batch_size=batch_size,
    class_mode='binary'   
)

test_data_gen = test_image_generator.flow_from_directory(
    PATH, target_size=(IMG_HEIGHT, IMG_WIDTH), batch_size=batch_size, classes=['test'] 
)

Found 2000 images belonging to 2 classes.
Found 1000 images belonging to 2 classes.
Found 50 images belonging to 1 classes.

for x in train_data_gen[5]:
  print(x)

The plotImages function will be used a few times to plot images. It takes an array of images and a probabilities list, although the probabilities list is optional. This code is given to you. If you created the train_data_gen variable correctly, then running the cell below will plot five random training images.

def plotImages(images_arr, probabilities = False):
    fig, axes = plt.subplots(len(images_arr), 1, figsize=(5,len(images_arr) * 3))
    if probabilities is False:
      for img, ax in zip( images_arr, axes):
          ax.imshow(img)
          ax.axis('off')
    else:
      for img, probability, ax in zip( images_arr, probabilities, axes):
          ax.imshow(img)
          ax.axis('off')
          if probability > 0.5:
              ax.set_title("%.2f" % (probability*100) + "% dog")
          else:
              ax.set_title("%.2f" % ((1-probability)*100) + "% cat")
    plt.show()

sample_training_images, _ = next(train_data_gen)
plotImages(sample_training_images[:5])

Recreate the train_image_generator using ImageDataGenerator.

Since there are a small number of training examples there is a risk of overfitting. One way to fix this problem is by creating more training data from existing training examples by using random transformations.

Add 4-6 random transformations as arguments to ImageDataGenerator. Make sure to rescale the same as before.

train_image_generator = ImageDataGenerator(rescale=1./255, horizontal_flip=True, 
                                           vertical_flip=True,
                                           rotation_range=40,
                                           zoom_range=0.2,
                                           )

You don't have to do anything for the next cell. train_data_gen is created just like before but with the new train_image_generator. Then, a single image is plotted five different times using different variations.

train_data_gen = train_image_generator.flow_from_directory(batch_size=batch_size,
                                                     directory=train_dir,
                                                     target_size=(IMG_HEIGHT, IMG_WIDTH),
                                                     class_mode='binary')

augmented_images = [train_data_gen[0][0][0] for i in range(5)]

plotImages(augmented_images)

In the cell below, create a model for the neural network that outputs class probabilities. It should use the Keras Sequential model. It will probably involve a stack of Conv2D and MaxPooling2D layers and then a fully connected layer on top that is activated by a ReLU activation function.

Compile the model passing the arguments to set the optimizer and loss. Also pass in metrics=['accuracy'] to view training and validation accuracy for each training epoch.

IMG_SHAPE = (150, 150, 3)

# Create the base model from the pre-trained model MobileNet V2
base_model = tf.keras.applications.MobileNetV2(input_shape=IMG_SHAPE,
                                               include_top=False,
                                               weights='imagenet')


base_model.trainable = False

global_average_layer = tf.keras.layers.GlobalAveragePooling2D()

prediction_layer = tf.keras.layers.Dense(1)

model = Sequential([
  base_model,
  global_average_layer,
  prediction_layer
])
model.compile(optimizer='adam',
              loss='binary_crossentropy',
              metrics=['accuracy'])
model.summary()

Model: "sequential_3"
_________________________________________________________________
 Layer (type)                Output Shape              Param #   
=================================================================
 mobilenetv2_1.00_224 (Funct  (None, 5, 5, 1280)       2257984   
 ional)                                                          
                                                                 
 global_average_pooling2d (G  (None, 1280)             0         
 lobalAveragePooling2D)                                          
                                                                 
 dense (Dense)               (None, 1)                 1281      
                                                                 
=================================================================
Total params: 2,259,265
Trainable params: 1,281
Non-trainable params: 2,257,984
_________________________________________________________________

Use the fit method on your model to train the network. Make sure to pass in arguments for x, steps_per_epoch, epochs, validation_data, and validation_steps.

history = model.fit(train_data_gen,
                    epochs=epochs, steps_per_epoch=10,
                    validation_data=val_data_gen, validation_steps=8)

Epoch 1/15
10/10 [==============================] - 44s 4s/step - loss: 5.6268 - accuracy: 0.5430 - val_loss: 5.6309 - val_accuracy: 0.5630
Epoch 2/15
10/10 [==============================] - 39s 4s/step - loss: 5.9173 - accuracy: 0.5552 - val_loss: 1.7834 - val_accuracy: 0.8260
Epoch 3/15
10/10 [==============================] - 39s 4s/step - loss: 3.3085 - accuracy: 0.6802 - val_loss: 1.1657 - val_accuracy: 0.8630
Epoch 4/15
10/10 [==============================] - 39s 4s/step - loss: 3.1770 - accuracy: 0.7148 - val_loss: 1.6015 - val_accuracy: 0.8400
Epoch 5/15
10/10 [==============================] - 40s 4s/step - loss: 2.6977 - accuracy: 0.7625 - val_loss: 1.1212 - val_accuracy: 0.8870
Epoch 6/15
10/10 [==============================] - 39s 4s/step - loss: 2.6535 - accuracy: 0.7597 - val_loss: 0.8543 - val_accuracy: 0.9200
Epoch 7/15
10/10 [==============================] - 39s 4s/step - loss: 2.1201 - accuracy: 0.8028 - val_loss: 0.6723 - val_accuracy: 0.9220
Epoch 8/15
10/10 [==============================] - 39s 4s/step - loss: 2.2656 - accuracy: 0.7875 - val_loss: 0.8602 - val_accuracy: 0.9100
Epoch 9/15
10/10 [==============================] - 45s 5s/step - loss: 2.6197 - accuracy: 0.7727 - val_loss: 1.0515 - val_accuracy: 0.9080
Epoch 10/15
10/10 [==============================] - 40s 4s/step - loss: 1.8891 - accuracy: 0.8125 - val_loss: 0.8321 - val_accuracy: 0.9210
Epoch 11/15
10/10 [==============================] - 39s 4s/step - loss: 2.0332 - accuracy: 0.8086 - val_loss: 0.8397 - val_accuracy: 0.9210
Epoch 12/15
10/10 [==============================] - 38s 4s/step - loss: 1.9674 - accuracy: 0.8239 - val_loss: 0.7734 - val_accuracy: 0.9240
Epoch 13/15
10/10 [==============================] - 39s 4s/step - loss: 2.1802 - accuracy: 0.8206 - val_loss: 0.8425 - val_accuracy: 0.9160
Epoch 14/15
10/10 [==============================] - 39s 4s/step - loss: 2.2882 - accuracy: 0.7979 - val_loss: 0.7675 - val_accuracy: 0.9280
Epoch 15/15
10/10 [==============================] - 39s 4s/step - loss: 1.9932 - accuracy: 0.8117 - val_loss: 0.7711 - val_accuracy: 0.9300

Run the next cell to visualize the accuracy and loss of the model.

acc = history.history['accuracy']
val_acc = history.history['val_accuracy']

loss = history.history['loss']
val_loss = history.history['val_loss']

epochs_range = range(epochs)

plt.figure(figsize=(8, 8))
plt.subplot(1, 2, 1)
plt.plot(epochs_range, acc, label='Training Accuracy')
plt.plot(epochs_range, val_acc, label='Validation Accuracy')
plt.legend(loc='lower right')
plt.title('Training and Validation Accuracy')

plt.subplot(1, 2, 2)
plt.plot(epochs_range, loss, label='Training Loss')
plt.plot(epochs_range, val_loss, label='Validation Loss')
plt.legend(loc='upper right')
plt.title('Training and Validation Loss')
plt.show()

Now it is time to use your model to predict whether a brand new image is a cat or a dog.

In this final cell, get the probability that each test image (from test_data_gen) is a dog or a cat. probabilities should be a list of integers.

Call the plotImages function and pass in the test images and the probabilities corresponding to each test image.

After your run the cell, you should see all 50 test images with a label showing the percentage sure that the image is a cat or a dog. The accuracy will correspond to the accuracy shown in the graph above (after running the previous cell). More training images could lead to a higher accuracy.

[[-4.218963  ]
 [ 2.6523044 ]
 [-0.5360017 ]
 [ 3.1030881 ]
 [-2.4173    ]
 [-3.2326937 ]
 [-1.3162974 ]
 [-1.9066259 ]
 [-3.036617  ]
 [ 4.3288927 ]
 [ 2.248285  ]
 [-2.7544787 ]
 [-3.8882623 ]
 [-4.4989166 ]
 [-2.2421935 ]
 [ 2.2691467 ]
 [-5.613867  ]
 [ 4.780706  ]
 [-3.555151  ]
 [-1.0604336 ]
 [ 1.0995704 ]
 [-1.787574  ]
 [ 3.2299478 ]
 [ 1.8373759 ]
 [ 0.3842917 ]
 [-0.03136073]
 [ 3.6975436 ]
 [-3.5057504 ]
 [-0.4954763 ]
 [-3.529306  ]
 [-0.8338607 ]
 [-2.1755626 ]
 [ 2.411245  ]
 [ 4.628992  ]
 [ 3.6113398 ]
 [ 5.8032417 ]
 [-4.6539335 ]
 [-4.033246  ]
 [-4.8008456 ]
 [ 3.3358428 ]
 [-2.3199306 ]
 [-0.22284445]
 [ 1.9850764 ]
 [ 5.8206143 ]
 [-1.3393519 ]
 [ 4.5297    ]
 [-1.3846543 ]
 [-5.0189023 ]
 [-4.715526  ]
 [ 6.167611  ]]

Run this final cell to see if you passed the challenge or if you need to keep trying.

answers =  [1, 0, 0, 1, 0, 0, 0, 0, 1, 1, 0,
            1, 0, 1, 0, 1, 1, 0, 1, 1, 0, 0,
            1, 1, 1, 1, 1, 0, 0, 0, 0, 0, 1,
            1, 0, 1, 1, 1, 1, 0, 1, 0, 1, 1, 
            0, 0, 0, 0, 0, 0]

correct = 0

for probability, answer in zip(probabilities, answers):
  if round(probability) == answer:
    correct +=1

percentage_identified = (correct / len(answers))

passed_challenge = percentage_identified > 0.63

print(f"Your model correctly identified {round(percentage_identified, 2)}% of the images of cats and dogs.")

if passed_challenge:
  print("You passed the challenge!")
else:
  print("You haven't passed yet. Your model should identify at least 63% of the images. Keep trying. You will get it!")

*values: object, hint
